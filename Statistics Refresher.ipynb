{
 "cells": [
  {
   "cell_type": "markdown",
   "metadata": {},
   "source": [
    "# Statistics Refresher"
   ]
  },
  {
   "cell_type": "markdown",
   "metadata": {},
   "source": [
    "## Theory"
   ]
  },
  {
   "cell_type": "markdown",
   "metadata": {},
   "source": [
    "### Normal distribution\n",
    "\n",
    "Characteristics of a Normal distribution are shown below.  \n",
    "\n",
    "The x-axis is a line of z-scores. The y-axis is probability of that z-score. The area under the graph (i.e. the integral) = 1.  \n",
    "\n",
    "The z-score is a measure of how many standard-deviations a sample x is from the mean mu.  \n",
    "<code>Z = (X - mu) / sigma</code>  \n",
    "\n",
    "mu = mean of samples X  \n",
    "sigma = standard deviation of samples of X . \n",
    "\n",
    "For a normal distribution, the mean = median (i.e. 50th percentile) = mode.  \n"
   ]
  },
  {
   "cell_type": "code",
   "execution_count": 22,
   "metadata": {},
   "outputs": [
    {
     "data": {
      "text/plain": [
       "<matplotlib.legend.Legend at 0x1a22277978>"
      ]
     },
     "execution_count": 22,
     "metadata": {},
     "output_type": "execute_result"
    },
    {
     "data": {
      "image/png": "[encoded data removed]",
      "text/plain": [
       "<Figure size 432x288 with 1 Axes>"
      ]
     },
     "metadata": {},
     "output_type": "display_data"
    }
   ],
   "source": [
    "import pandas as pd\n",
    "import numpy as np\n",
    "import matplotlib as mlt\n",
    "import seaborn as sns\n",
    "\n",
    "#sigma * np.random.randn(...) + mu\n",
    "\n",
    "x = np.random.randn(100)\n",
    "sns.set()\n",
    "np.random.seed(0)\n",
    "ax = sns.distplot(x)\n",
    "ax.axvline(x=0, ymin=0, ymax=1, linestyle='--', color='r', label='mean')\n",
    "ax.axvline(x=-1, ymin=0, ymax=1, linestyle='--', color='b', label='mu +- 1*sigma')\n",
    "ax.axvline(x=1, ymin=0, ymax=1, linestyle='--', color='b')\n",
    "ax.axvline(x=-2, ymin=0, ymax=1, linestyle='--', color='g', label='mu +- 2*sigma')\n",
    "ax.axvline(x=2, ymin=0, ymax=1, linestyle='--', color='g')\n",
    "ax.axvline(x=-3, ymin=0, ymax=1, linestyle='--', color='y', label='mu +- 3*sigma')\n",
    "ax.axvline(x=3, ymin=0, ymax=1, linestyle='--', color='y')\n",
    "ax.legend()"
   ]
  },
  {
   "cell_type": "markdown",
   "metadata": {},
   "source": [
    "### Correlation Coefficients\n",
    "\n",
    "An explanation of **correlation coefficients** are below - including their formulas and intuitions.  \n",
    "\n",
    "### Correlation Coefficient 'r'\n",
    "The formula to calculate the **Correlation Coefficient** 'r' is below -  \n",
    "<code> r = 1/(m - 1) * Zx' * Zy (-1 =< r <= 1)  </code>  \n",
    "\n",
    "variables above: \n",
    "* m = sample data size. \n",
    "* Zx is the vector of z-scores of x - size is m x 1. \n",
    "* Zy is the vector of z-scores of y - size is m x 1.  \n",
    "\n",
    "The formula above is the dot product of Zx transpose x Zy.  \n",
    "r close to +1 indicates strong +'ve correlation - i.e. when x increases so does y.  \n",
    "r close to -1 indicates strong -'ve correlation - i.e. when x increases y decreases.  \n",
    "\n",
    "### TSS (Total Sum of Squares)\n",
    "\n",
    "The formula to calculate **TSS** is below -  \n",
    "<code>TSS = Summation of (yi - ymean) ^ 2</code> (i is a set of \\[0,m], where m = sample size)  \n",
    "\n",
    "The intuition is - in the case where we **DON'T** have a regression model, **TSS** measures the sum of the squared diffs between the response & and the mean of the response.  \n",
    "\n",
    "### RSS (Residual Sum of Squares)\n",
    "The formula to calculate *RSS* is below -  \n",
    "<code>RSS = Summation of (yi - yhat) ^ 2 </code> (i is a set of \\[0,m], where m = sample size)  \n",
    "\n",
    "yhat is the predicted/estimated response from a Regression model. **RSS** measures the squared differences between the estimated vs. actual responses of the sample dataset.  \n",
    "\n",
    "### r2\n",
    "**r2** measures the percentage increase/decrease in sum of squares between TSS and RSS. Formula is below -  \n",
    "\n",
    "<code>R2 = (TSS - RSS) / TSS</code>  \n",
    "\n",
    "_R-squared tells us what percent of the prediction error in Y is eliminated when we use least-squares regression on the xxx variable._  \n",
    "\n",
    "Alternative explanation: _How much of the total variation in Y is explained by the variation in X._  \n",
    "\n",
    "\n",
    "### RSE (Residual Standard Error)\n",
    "Aka **RMSD** (Root Mean Square Deviation) or **Standard Deviation of the Residuals**. Formula is -  \n",
    "<code>RSE = 1/(m-2) * RSS</code>  \n",
    "\n"
   ]
  },
  {
   "cell_type": "markdown",
   "metadata": {},
   "source": [
    "### Sampling and conducting Observations + Experiments\n",
    "\n",
    "Sources of Bias in Sampling scenario\n",
    "* Voluntary Response Sampling - where you have to opt to provide a response (i.e. u can choose to not provide one)\n",
    "* Conveniences Sampling - result is overestimate\n",
    "* Nonresponse - result is under/over-estimate\n",
    "* Response Bias - where people may not be willing to provide truthful/accurate responses\n",
    "* Undercoverage - where enough variety in the population is not covered.\n"
   ]
  },
  {
   "cell_type": "markdown",
   "metadata": {},
   "source": [
    "### p-value\n",
    "The **p-value** is a Probability that provides a measure of the evidence against the Null Hypothesis provided by the training data samples.  \n",
    "A small p-value indicates strong evidence against the null hypothesis, so you reject the null hypothesis. (source: <a href=https://www.dummies.com/education/math/statistics/what-a-p-value-tells-you-about-statistical-data/ >this link</a>)  \n",
    "If the p-value is less than the **significance level**, then the H0 (i.e. Null Hypothesis) is rejected. Typical values of significance level are 0.01, 0.05 and 0.1.  \n",
    "\n",
    "\n",
    "\n",
    "### Significance level\n",
    "The **significance level** (aka alpha) is the probability of rejecting the Null Hypothesis H0 when H0 is actually true.  \n",
    "Significance Level is related to the **Confidence Interval** (c) by this relationship - c = 1 - alpha.\n",
    "\n",
    "I will analyze the question posted here on stats.stackexchange (<a href=https://stats.stackexchange.com/questions/404119/understanding-p-values-using-an-example>this link</a>) to explore in detail this correlation statistic.  \n",
    "\n",
    "\n",
    "### Hypothesis Test\n",
    "\n",
    "### One-Tailed vs. Two-Tailed Test\n"
   ]
  },
  {
   "cell_type": "markdown",
   "metadata": {},
   "source": [
    "### Sources\n",
    "\n",
    "* Statistical Learning, MOOC from Stanford (<a href=\"https://lagunita.stanford.edu/courses/HumanitiesSciences/StatLearning/Winter2016/course/\">link to course here</a>)\n",
    "* Accompanying textboot for above MOOC course (<a href=\"http://www-bcf.usc.edu/~gareth/ISL/\">link to textbook</a>)\n",
    "* Khan Academy for high-school level statistics refresher (<a href=\"https://www.khanacademy.org/math/ap-statistics\">link here</a>)"
   ]
  },
  {
   "cell_type": "code",
   "execution_count": null,
   "metadata": {},
   "outputs": [],
   "source": []
  }
 ],
 "metadata": {
  "kernelspec": {
   "display_name": "Python 3",
   "language": "python",
   "name": "python3"
  },
  "language_info": {
   "codemirror_mode": {
    "name": "ipython",
    "version": 3
   },
   "file_extension": ".py",
   "mimetype": "text/x-python",
   "name": "python",
   "nbconvert_exporter": "python",
   "pygments_lexer": "ipython3",
   "version": "3.6.8"
  }
 },
 "nbformat": 4,
 "nbformat_minor": 2
}
